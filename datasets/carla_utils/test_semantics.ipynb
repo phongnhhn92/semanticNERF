{
 "cells": [
  {
   "cell_type": "code",
   "execution_count": 1,
   "metadata": {},
   "outputs": [],
   "source": [
    "import PIL\n",
    "from PIL import Image\n",
    "import numpy as np\n",
    "import cv2 as cv"
   ]
  },
  {
   "cell_type": "code",
   "execution_count": 2,
   "metadata": {},
   "outputs": [],
   "source": [
    "sem_file = 'SEM_06_06.png'\n",
    "num_classes = 13\n",
    "\n",
    "palette = {\n",
    "    0: [0, 0, 0],  # None\n",
    "    1: [70, 70, 70],  # Buildings\n",
    "    2: [190, 153, 153],  # Fences\n",
    "    3: [72, 0, 90],  # Other\n",
    "    4: [220, 20, 60],  # Pedestrians\n",
    "    5: [153, 153, 153],  # Poles\n",
    "    6: [157, 234, 50],  # RoadLines\n",
    "    7: [128, 64, 128],  # Roads\n",
    "    8: [244, 35, 232],  # Sidewalks\n",
    "    9: [107, 142, 35],  # Vegetation\n",
    "    10: [0, 0, 255],  # Vehicles\n",
    "    11: [102, 102, 156],  # Walls\n",
    "    12: [220, 220, 0],  # TrafficSigns\n",
    "    13: [150, 33, 88],  # TrafficSigns\n",
    "    }\n",
    "for i in range(len(palette), 256):\n",
    "    palette[i] = [0, 0, 0]\n",
    "\n",
    "palette_list = [] \n",
    "for v in palette.values():\n",
    "    for i in range(3):\n",
    "        palette_list.append(v[i])\n",
    "# palette_list"
   ]
  },
  {
   "cell_type": "code",
   "execution_count": 3,
   "metadata": {},
   "outputs": [
    {
     "name": "stdout",
     "output_type": "stream",
     "text": [
      "[ 0  1  2  3  4  5  6  7  8  9 10 11 12]\n",
      "(600, 800)\n"
     ]
    }
   ],
   "source": [
    "# Lets load a carla semantic map\n",
    "seg = cv.imread(sem_file, cv.IMREAD_ANYCOLOR |\n",
    "                cv.IMREAD_ANYDEPTH)\n",
    "seg = np.asarray(seg, dtype=np.uint8)[:, :, 2]\n",
    "print(np.unique(seg))\n",
    "print(seg.shape)"
   ]
  },
  {
   "cell_type": "code",
   "execution_count": 4,
   "metadata": {},
   "outputs": [],
   "source": [
    "# now we will save this semantic map with a pallete\n",
    "im_pil = Image.fromarray(seg, mode=\"P\")\n",
    "# if we save it now it will not be displayed correctly\n",
    "im_pil.putpalette(palette_list)\n",
    "im_pil.save('colored_sem.png')\n",
    "im_pil.close()\n",
    "# Now open see this file in image viewer"
   ]
  },
  {
   "cell_type": "code",
   "execution_count": 37,
   "metadata": {},
   "outputs": [
    {
     "name": "stdout",
     "output_type": "stream",
     "text": [
      "[ 0  1  2  3  4  5  6  7  8  9 10 11 12]\n",
      "(600, 800)\n"
     ]
    }
   ],
   "source": [
    "# The image is colored, good for visualisation\n",
    "# can we load it and get the coorect label ids\n",
    "im_pil = Image.open('colored_sem.png')\n",
    "seg = np.array(im_pil)\n",
    "print(np.unique(seg))\n",
    "print(seg.shape)"
   ]
  },
  {
   "cell_type": "code",
   "execution_count": 6,
   "metadata": {},
   "outputs": [
    {
     "name": "stdout",
     "output_type": "stream",
     "text": [
      "[ 0  1  2  3  4  5  6  7  8  9 10 11 12]\n",
      "(600, 800)\n"
     ]
    }
   ],
   "source": [
    "# The image is colored, good for visualisation\n",
    "# can we load it and get the coorect label ids\n",
    "im_pil = Image.open('colored_sem_edited.png')\n",
    "seg = np.array(im_pil)\n",
    "print(np.unique(seg))\n",
    "print(seg.shape)\n",
    "im_pil.save('a.png')\n",
    "im_pil.close()"
   ]
  },
  {
   "cell_type": "code",
   "execution_count": null,
   "metadata": {},
   "outputs": [],
   "source": []
  }
 ],
 "metadata": {
  "kernelspec": {
   "display_name": "Python 3",
   "language": "python",
   "name": "python3"
  },
  "language_info": {
   "codemirror_mode": {
    "name": "ipython",
    "version": 3
   },
   "file_extension": ".py",
   "mimetype": "text/x-python",
   "name": "python",
   "nbconvert_exporter": "python",
   "pygments_lexer": "ipython3",
   "version": "3.8.8"
  }
 },
 "nbformat": 4,
 "nbformat_minor": 2
}
